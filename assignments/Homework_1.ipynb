{
 "cells": [
  {
   "cell_type": "markdown",
   "metadata": {
    "hideCode": false,
    "hidePrompt": false,
    "slideshow": {
     "slide_type": "slide"
    }
   },
   "source": [
    "\n",
    "# PHYS-330 - Classical Mechanics - Fall 2017\n",
    "\n",
    "## Homework 1\n",
    "\n",
    "1. Prove the vector triple product \n",
    "$$\n",
    "\\mathbf{A}\\times \\left(\\mathbf{B}\\times\\mathbf{C}\\right) = \\mathbf{B}\\left(\\mathbf{A}\\cdot\\mathbf{C}\\right) + \\mathbf{C}\\left(\\mathbf{A}\\cdot\\mathbf{B}\\right) \n",
    "$$\n",
    "+ Problem 1.40 from Taylor.\n",
    "+ Problem 1.32 from Taylor.\n",
    "+ A sphere of radius $R$ and density $\\rho$ falls from an altitude of $H$. The atmospheric density varies with height $x$ (where $x=0$ is sea level) as \n",
    "$$ \\rho_a = \\rho_0 e^{-x/X}.$$\n",
    "We assume there is quadratic drag of $F_d = 0.2\\pi\\rho_aR^2v^2$ where $v$ is the velocity of the sphere and $v=0$ at $t=0$. Obtain numerical solutions (i.e. plots) for velocity $v(t)$ and height $x(t)$ for (a) $H=5$ km (b) $H=10$ km (c) $H= 15$ km and (d) $H = 20$ km. You may take $ R = 2.0$ cm, $\\rho = 5.00\\times 10^{3}$ kg$\\cdot$m$^{-3}$, $\\rho_0 = 1.29$ kg$\\cdot$m$^{-3}$, $X = 7.46\\times 10^{3}$ m, Earth's Radius $R_e = 6.37\\times 10^{6}$ m and at sea level $g_0 = 9.80$ m$\\cdot$s$^{-2}$.\n",
    "+ Problems 1.50 and 1.51 from Taylor.\n"
   ]
  },
  {
   "cell_type": "code",
   "execution_count": null,
   "metadata": {
    "collapsed": true
   },
   "outputs": [],
   "source": []
  }
 ],
 "metadata": {
  "anaconda-cloud": {},
  "celltoolbar": "Slideshow",
  "hide_code_all_hidden": false,
  "kernelspec": {
   "display_name": "py3",
   "language": "python",
   "name": "py3"
  },
  "language_info": {
   "codemirror_mode": {
    "name": "ipython",
    "version": 3
   },
   "file_extension": ".py",
   "mimetype": "text/x-python",
   "name": "python",
   "nbconvert_exporter": "python",
   "pygments_lexer": "ipython3",
   "version": "3.6.1"
  }
 },
 "nbformat": 4,
 "nbformat_minor": 2
}
