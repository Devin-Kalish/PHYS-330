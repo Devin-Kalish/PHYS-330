{
 "cells": [
  {
   "cell_type": "markdown",
   "metadata": {},
   "source": [
    "# Using sympy to solve odes\n",
    "\n",
    "In the following we look at how we can solve the simple harmonic oscillator\n",
    "$$\n",
    "\\ddot{x} = -\\omega_0^2 x\n",
    "$$\n",
    "using Python's sympy library.  \n",
    "\n",
    "This will be done in two different ways.  The first will be symbolically and the second will be numerically.\n"
   ]
  },
  {
   "cell_type": "markdown",
   "metadata": {},
   "source": [
    "## Symbolic Solution\n",
    "\n",
    "First we need to import the library `sympy`."
   ]
  },
  {
   "cell_type": "code",
   "execution_count": 35,
   "metadata": {
    "collapsed": true
   },
   "outputs": [],
   "source": [
    "from sympy import *\n",
    "import numpy as np\n",
    "init_printing()  #This command will make the equations display in a\n",
    "                 # more readable way"
   ]
  },
  {
   "cell_type": "markdown",
   "metadata": {},
   "source": [
    "next we need to define some symbols.  Below, the variables $t$, $v_0$, $x_0$ and $\\omega_0$ are defined as symbols and we define $x$ as a function.  Eventually, we make it a function of $t$."
   ]
  },
  {
   "cell_type": "code",
   "execution_count": 36,
   "metadata": {
    "collapsed": true
   },
   "outputs": [],
   "source": [
    "t,omega_0,v_0,x_0 = symbols('t,omega_0,v_0,x_0')\n",
    "x = Function('x')\n",
    "y = Function('y')"
   ]
  },
  {
   "cell_type": "markdown",
   "metadata": {},
   "source": [
    "Next we can use the function `dsolve` to get a solution to the ODE above.  Note that `dsolve` requires the equation\n",
    "$$\n",
    "\\ddot{x} + \\omega_0^2 x = 0.\n",
    "$$\n",
    "We deine the second derivate of $x$ with respect to $t$ with the command `Derivative(x(t),t,2)`. "
   ]
  },
  {
   "cell_type": "code",
   "execution_count": 37,
   "metadata": {},
   "outputs": [
    {
     "data": {
      "image/png": "[encoded data removed]",
      "text/latex": [
       "$$x{\\left (t \\right )} = C_{1} e^{- t \\sqrt{- \\omega_{0}}} + C_{2} e^{t \\sqrt{- \\omega_{0}}}$$"
      ],
      "text/plain": [
       "                _____           _____\n",
       "           -t⋅╲╱ -ω₀        t⋅╲╱ -ω₀ \n",
       "x(t) = C₁⋅ℯ           + C₂⋅ℯ         "
      ]
     },
     "execution_count": 37,
     "metadata": {},
     "output_type": "execute_result"
    }
   ],
   "source": [
    "sol = dsolve(Derivative(x(t),t,2)+omega_0*x(t))\n",
    "sol\n"
   ]
  },
  {
   "cell_type": "markdown",
   "metadata": {},
   "source": [
    "The `sol` variable we have above is of type tuple. So we can access the right and left hand side with indexes."
   ]
  },
  {
   "cell_type": "code",
   "execution_count": 38,
   "metadata": {},
   "outputs": [
    {
     "name": "stdout",
     "output_type": "stream",
     "text": [
      "rhs: x(t)\n",
      "lhs: C1*exp(-t*sqrt(-omega_0)) + C2*exp(t*sqrt(-omega_0))\n"
     ]
    }
   ],
   "source": [
    "type(sol.args[0])\n",
    "print('rhs:',sol.args[0])\n",
    "print(\"lhs:\",sol.args[1])"
   ]
  },
  {
   "cell_type": "markdown",
   "metadata": {},
   "source": [
    "Notice that the solution contains two constants $C_1$ and $C_2$.  These constants can be determined with the initial conditions $v_0$ and $x_0$ we defined as symbols above.\n",
    "\n",
    "In the code below the function `Eq` defines an equality, in the first case we make $x(t=0) = x_0$ and the second we set $\\dot{x}(t=0) = v_0$."
   ]
  },
  {
   "cell_type": "code",
   "execution_count": 39,
   "metadata": {},
   "outputs": [
    {
     "data": {
      "image/png": "[encoded data removed]",
      "text/latex": [
       "$$\\left [ C_{1} + C_{2} = x_{0}, \\quad - C_{1} \\sqrt{- \\omega_{0}} + C_{2} \\sqrt{- \\omega_{0}} = v_{0}\\right ]$$"
      ],
      "text/plain": [
       "⎡                     _____        _____     ⎤\n",
       "⎣C₁ + C₂ = x₀, - C₁⋅╲╱ -ω₀  + C₂⋅╲╱ -ω₀  = v₀⎦"
      ]
     },
     "execution_count": 39,
     "metadata": {},
     "output_type": "execute_result"
    }
   ],
   "source": [
    "ics = [Eq(sol.args[1].subs(t,0),x_0),Eq(sol.args[1].diff(t).subs(t,0),v_0)]\n",
    "ics"
   ]
  },
  {
   "cell_type": "markdown",
   "metadata": {},
   "source": [
    "We can then solve the equations above using the function `solve`."
   ]
  },
  {
   "cell_type": "code",
   "execution_count": 40,
   "metadata": {},
   "outputs": [
    {
     "data": {
      "image/png": "[encoded data removed]",
      "text/latex": [
       "$$\\left [ \\left \\{ C_{1} : - \\frac{v_{0}}{2 \\sqrt{- \\omega_{0}}} + \\frac{x_{0}}{2}, \\quad C_{2} : \\frac{v_{0}}{2 \\sqrt{- \\omega_{0}}} + \\frac{x_{0}}{2}\\right \\}\\right ]$$"
      ],
      "text/plain": [
       "⎡⎧          v₀      x₀          v₀      x₀⎫⎤\n",
       "⎢⎪C₁: - ───────── + ──, C₂: ───────── + ──⎪⎥\n",
       "⎢⎨          _____   2           _____   2 ⎬⎥\n",
       "⎢⎪      2⋅╲╱ -ω₀            2⋅╲╱ -ω₀      ⎪⎥\n",
       "⎣⎩                                        ⎭⎦"
      ]
     },
     "execution_count": 40,
     "metadata": {},
     "output_type": "execute_result"
    }
   ],
   "source": [
    "solved_ics = solve(ics)\n",
    "solved_ics"
   ]
  },
  {
   "cell_type": "markdown",
   "metadata": {},
   "source": [
    "Next we subsitute $C_1$ and $C_2$ into the solution, `sol`, above."
   ]
  },
  {
   "cell_type": "code",
   "execution_count": 41,
   "metadata": {
    "scrolled": true
   },
   "outputs": [
    {
     "data": {
      "image/png": "[encoded data removed]",
      "text/latex": [
       "$$x{\\left (t \\right )} = \\left(- \\frac{v_{0}}{2 \\sqrt{- \\omega_{0}}} + \\frac{x_{0}}{2}\\right) e^{- t \\sqrt{- \\omega_{0}}} + \\left(\\frac{v_{0}}{2 \\sqrt{- \\omega_{0}}} + \\frac{x_{0}}{2}\\right) e^{t \\sqrt{- \\omega_{0}}}$$"
      ],
      "text/plain": [
       "                                _____                         _____\n",
       "       ⎛      v₀      x₀⎞  -t⋅╲╱ -ω₀    ⎛    v₀      x₀⎞  t⋅╲╱ -ω₀ \n",
       "x(t) = ⎜- ───────── + ──⎟⋅ℯ           + ⎜───────── + ──⎟⋅ℯ         \n",
       "       ⎜      _____   2 ⎟               ⎜    _____   2 ⎟           \n",
       "       ⎝  2⋅╲╱ -ω₀      ⎠               ⎝2⋅╲╱ -ω₀      ⎠           "
      ]
     },
     "execution_count": 41,
     "metadata": {},
     "output_type": "execute_result"
    }
   ],
   "source": [
    "full_sol = sol.subs(solved_ics[0])\n",
    "full_sol"
   ]
  },
  {
   "cell_type": "code",
   "execution_count": 42,
   "metadata": {},
   "outputs": [
    {
     "data": {
      "image/png": "[encoded data removed]",
      "text/latex": [
       "$$x{\\left (t \\right )} = \\cos{\\left (t \\right )}$$"
      ],
      "text/plain": [
       "x(t) = cos(t)"
      ]
     },
     "execution_count": 42,
     "metadata": {},
     "output_type": "execute_result"
    }
   ],
   "source": [
    "\n",
    "case1 = simplify(full_sol.subs({x_0:1,v_0:0,omega_0:1}))\n",
    "case1"
   ]
  },
  {
   "cell_type": "code",
   "execution_count": 43,
   "metadata": {},
   "outputs": [
    {
     "data": {
      "image/png": "[encoded data removed]",
      "text/plain": [
       "<matplotlib.figure.Figure at 0x7f526da83ef0>"
      ]
     },
     "metadata": {},
     "output_type": "display_data"
    },
    {
     "data": {
      "text/plain": [
       "<sympy.plotting.plot.Plot at 0x7f526da83dd8>"
      ]
     },
     "execution_count": 43,
     "metadata": {},
     "output_type": "execute_result"
    }
   ],
   "source": [
    "plot(case1.rhs)"
   ]
  },
  {
   "cell_type": "markdown",
   "metadata": {},
   "source": [
    "## Numerical Solution\n",
    "\n",
    "This method uses the `scipy` library and the `odeint` function.\n",
    "\n",
    "The `odeint` function requires a function which returns the right hand side of a system of first order differential equations.  Our equation \n",
    "$$\n",
    "\\ddot{x} = \\omega_0 x\n",
    "$$\n",
    "can be  written as system of two first order differential equations.  if we let $\\dot{x} = v$ we can write the second order ode above as\n",
    "\n",
    "$$\n",
    "\\begin{eqnarray}\n",
    "    \\dot{x} &= v \\\\\n",
    "    \\dot{v} &= -\\omega_0^2x\n",
    "\\end{eqnarray}\n",
    "$$\n",
    "\n",
    "The function, `harmonic`, below returns the RHS.  Also, the time step $dt$ and initial conditions are defined as well as the output times, $ts$ which will be output from `odeint`."
   ]
  },
  {
   "cell_type": "code",
   "execution_count": 44,
   "metadata": {},
   "outputs": [],
   "source": [
    "def harmonic(u,t,omega_squared):\n",
    "    ''' provides the rhs of the ode for the simple harmonic oscillator'''\n",
    "    x, xdot = u\n",
    "    return [xdot, -omega_squared * x]\n",
    "\n",
    "dt = .2\n",
    "x0 = [1,0]\n",
    "ts = np.arange(0,10,dt)"
   ]
  },
  {
   "cell_type": "code",
   "execution_count": 45,
   "metadata": {},
   "outputs": [],
   "source": [
    "from scipy.integrate import odeint\n",
    "from matplotlib import pyplot as plt\n",
    "\n",
    "scipysol = odeint(harmonic, x0, ts, args=(1,))"
   ]
  },
  {
   "cell_type": "code",
   "execution_count": 46,
   "metadata": {},
   "outputs": [
    {
     "data": {
      "image/png": "[encoded data removed]",
      "text/plain": [
       "<matplotlib.figure.Figure at 0x7f526da09780>"
      ]
     },
     "metadata": {},
     "output_type": "display_data"
    }
   ],
   "source": [
    "plt.plot(ts,scipysol[:,0])\n",
    "plt.plot(ts,scipysol[:,0],'o')\n",
    "plt.grid()\n",
    "plt.show()"
   ]
  }
 ],
 "metadata": {
  "anaconda-cloud": {},
  "kernelspec": {
   "display_name": "py3",
   "language": "python",
   "name": "py3"
  },
  "language_info": {
   "codemirror_mode": {
    "name": "ipython",
    "version": 3
   },
   "file_extension": ".py",
   "mimetype": "text/x-python",
   "name": "python",
   "nbconvert_exporter": "python",
   "pygments_lexer": "ipython3",
   "version": "3.6.1"
  }
 },
 "nbformat": 4,
 "nbformat_minor": 2
}
